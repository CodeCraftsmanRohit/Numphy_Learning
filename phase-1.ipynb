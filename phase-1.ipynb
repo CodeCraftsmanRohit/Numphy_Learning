{
 "cells": [
  {
   "cell_type": "code",
   "execution_count": 4,
   "id": "1bc898c0",
   "metadata": {},
   "outputs": [],
   "source": [
    "import numpy as np"
   ]
  },
  {
   "cell_type": "code",
   "execution_count": 7,
   "id": "f9682b5f",
   "metadata": {},
   "outputs": [
    {
     "name": "stdout",
     "output_type": "stream",
     "text": [
      "[1 2 3 4 5]\n"
     ]
    }
   ],
   "source": [
    "arr_1d = np.array([1,2,3,4,5])\n",
    "print(arr_1d)"
   ]
  },
  {
   "cell_type": "code",
   "execution_count": 8,
   "id": "c095f01c",
   "metadata": {},
   "outputs": [
    {
     "name": "stdout",
     "output_type": "stream",
     "text": [
      "[[1 2 3]\n",
      " [4 5 6]]\n"
     ]
    }
   ],
   "source": [
    "arr_2d=np.array([[1,2,3],[4,5,6]])\n",
    "print(arr_2d)"
   ]
  },
  {
   "cell_type": "markdown",
   "id": "e0b69627",
   "metadata": {},
   "source": [
    "List vs Numpy array"
   ]
  },
  {
   "cell_type": "code",
   "execution_count": 9,
   "id": "d6436a5d",
   "metadata": {},
   "outputs": [
    {
     "name": "stdout",
     "output_type": "stream",
     "text": [
      "Python list multiplication  [1, 2, 3, 1, 2, 3]\n"
     ]
    }
   ],
   "source": [
    "py_list=[1,2,3]\n",
    "print(\"Python list multiplication \",py_list*2)"
   ]
  },
  {
   "cell_type": "code",
   "execution_count": 10,
   "id": "9e5eec85",
   "metadata": {},
   "outputs": [
    {
     "name": "stdout",
     "output_type": "stream",
     "text": [
      "[2 4 6]\n"
     ]
    }
   ],
   "source": [
    "np_array=np.array([1,2,3])\n",
    "print(np_array*2)\n"
   ]
  }
 ],
 "metadata": {
  "kernelspec": {
   "display_name": "venv",
   "language": "python",
   "name": "python3"
  },
  "language_info": {
   "codemirror_mode": {
    "name": "ipython",
    "version": 3
   },
   "file_extension": ".py",
   "mimetype": "text/x-python",
   "name": "python",
   "nbconvert_exporter": "python",
   "pygments_lexer": "ipython3",
   "version": "3.13.1"
  }
 },
 "nbformat": 4,
 "nbformat_minor": 5
}
