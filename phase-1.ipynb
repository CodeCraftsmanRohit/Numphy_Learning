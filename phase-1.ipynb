{
 "cells": [
  {
   "cell_type": "code",
   "execution_count": 2,
   "id": "1bc898c0",
   "metadata": {},
   "outputs": [],
   "source": [
    "import numpy as np"
   ]
  },
  {
   "cell_type": "code",
   "execution_count": 4,
   "id": "f9682b5f",
   "metadata": {},
   "outputs": [
    {
     "name": "stdout",
     "output_type": "stream",
     "text": [
      "[1 2 3 4 5]\n"
     ]
    }
   ],
   "source": [
    "arr_1d = np.array([1,2,3,4,5])\n",
    "print(arr_1d)"
   ]
  },
  {
   "cell_type": "code",
   "execution_count": 5,
   "id": "c095f01c",
   "metadata": {},
   "outputs": [
    {
     "name": "stdout",
     "output_type": "stream",
     "text": [
      "[[1 2 3]\n",
      " [4 5 6]]\n"
     ]
    }
   ],
   "source": [
    "arr_2d=np.array([[1,2,3],[4,5,6]])\n",
    "print(arr_2d)"
   ]
  },
  {
   "cell_type": "markdown",
   "id": "e0b69627",
   "metadata": {},
   "source": [
    "List vs Numpy array"
   ]
  },
  {
   "cell_type": "code",
   "execution_count": 6,
   "id": "d6436a5d",
   "metadata": {},
   "outputs": [
    {
     "name": "stdout",
     "output_type": "stream",
     "text": [
      "Python list multiplication  [1, 2, 3, 1, 2, 3]\n"
     ]
    }
   ],
   "source": [
    "py_list=[1,2,3]\n",
    "print(\"Python list multiplication \",py_list*2)"
   ]
  },
  {
   "cell_type": "code",
   "execution_count": null,
   "id": "9e5eec85",
   "metadata": {},
   "outputs": [
    {
     "name": "stdout",
     "output_type": "stream",
     "text": [
      "[2 4 6]\n",
      "\n",
      " List operation time:  0.08773636817932129\n",
      "\n",
      " Numpy operation time:  0.01057887077331543\n"
     ]
    }
   ],
   "source": [
    "np_array=np.array([1,2,3]) #element wise multiplication\n",
    "print(np_array*2)\n",
    "import time\n",
    "start=time.time()\n",
    "py_list=[i*2 for i in range(1000000)]\n",
    "print(\"\\n List operation time: \",time.time()-start)\n",
    "\n",
    "start=time.time()\n",
    "np_array=np.arange(1000000)*2\n",
    "print(\"\\n Numpy operation time: \",time.time()-start)\n"
   ]
  },
  {
   "cell_type": "markdown",
   "id": "6512e844",
   "metadata": {},
   "source": [
    "creating array from scratch"
   ]
  },
  {
   "cell_type": "code",
   "execution_count": 9,
   "id": "ef23937f",
   "metadata": {},
   "outputs": [
    {
     "name": "stdout",
     "output_type": "stream",
     "text": [
      "zeros array: \n",
      " [[0. 0. 0. 0.]\n",
      " [0. 0. 0. 0.]\n",
      " [0. 0. 0. 0.]]\n"
     ]
    }
   ],
   "source": [
    "zeros=np.zeros((3,4))\n",
    "print(\"zeros array: \\n\",zeros)"
   ]
  },
  {
   "cell_type": "code",
   "execution_count": 10,
   "id": "297afe1a",
   "metadata": {},
   "outputs": [
    {
     "name": "stdout",
     "output_type": "stream",
     "text": [
      "one array : \n",
      " [[1. 1. 1.]\n",
      " [1. 1. 1.]]\n"
     ]
    }
   ],
   "source": [
    "ones=np.ones((2,3))\n",
    "print(\"one array : \\n\",ones)"
   ]
  },
  {
   "cell_type": "code",
   "execution_count": 11,
   "id": "bf2b1008",
   "metadata": {},
   "outputs": [
    {
     "name": "stdout",
     "output_type": "stream",
     "text": [
      "full array :\n",
      " [[7 7]\n",
      " [7 7]]\n"
     ]
    }
   ],
   "source": [
    "full=np.full((2,2),7)\n",
    "print(\"full array :\\n\",full)"
   ]
  },
  {
   "cell_type": "code",
   "execution_count": 12,
   "id": "7353552c",
   "metadata": {},
   "outputs": [
    {
     "name": "stdout",
     "output_type": "stream",
     "text": [
      "ramdom array: \n",
      " [[0.81365743 0.05044338 0.81092071]\n",
      " [0.05828723 0.6293139  0.33744061]]\n"
     ]
    }
   ],
   "source": [
    "random=np.random.random((2,3))\n",
    "print(\"ramdom array: \\n\",random)"
   ]
  },
  {
   "cell_type": "code",
   "execution_count": 13,
   "id": "671af9db",
   "metadata": {},
   "outputs": [
    {
     "name": "stdout",
     "output_type": "stream",
     "text": [
      "sequence array : \n",
      " [0 2 4 6 8]\n"
     ]
    }
   ],
   "source": [
    "seq=np.arange(0,10,2)\n",
    "print(\"sequence array : \\n\",seq)"
   ]
  },
  {
   "cell_type": "markdown",
   "id": "09ec7731",
   "metadata": {},
   "source": [
    "Vector,Matrix,Tensor"
   ]
  },
  {
   "cell_type": "code",
   "execution_count": 5,
   "id": "cc670e2c",
   "metadata": {},
   "outputs": [
    {
     "name": "stdout",
     "output_type": "stream",
     "text": [
      "Vector:  [1 2 3]\n",
      "Matrix : [[1 2 3]\n",
      " [4 5 6]]\n",
      "Tenosr : [[[1 2]\n",
      "  [3 4]]\n",
      "\n",
      " [[5 6]\n",
      "  [7 8]]]\n"
     ]
    }
   ],
   "source": [
    "vector=np.array([1,2,3])\n",
    "print(\"Vector: \",vector)\n",
    "\n",
    "matrix=np.array([[1,2,3],[4,5,6]])\n",
    "print(\"Matrix :\",matrix)\n",
    "\n",
    "tensor=np.array([[[1,2],[3,4]],[[5,6],[7,8]]])\n",
    "print(\"Tenosr :\",tensor)\n"
   ]
  },
  {
   "cell_type": "markdown",
   "id": "c7b565e7",
   "metadata": {},
   "source": [
    "Array Properties"
   ]
  },
  {
   "cell_type": "code",
   "execution_count": 6,
   "id": "84545f0c",
   "metadata": {},
   "outputs": [
    {
     "name": "stdout",
     "output_type": "stream",
     "text": [
      "Shape  (2, 3)\n",
      "Dimension  2\n",
      "Size  6\n",
      "DType  int64\n"
     ]
    }
   ],
   "source": [
    "arr=np.array([[1,2,3],[4,5,6]])\n",
    "print(\"Shape \",arr.shape)\n",
    "print(\"Dimension \",arr.ndim)\n",
    "print(\"Size \",arr.size)\n",
    "print(\"DType \",arr.dtype)"
   ]
  },
  {
   "cell_type": "markdown",
   "id": "12bd09d8",
   "metadata": {},
   "source": [
    "Array Reshaping"
   ]
  },
  {
   "cell_type": "code",
   "execution_count": 7,
   "id": "7b7fc8f3",
   "metadata": {},
   "outputs": [
    {
     "name": "stdout",
     "output_type": "stream",
     "text": [
      "Original Array  12\n"
     ]
    }
   ],
   "source": [
    "arr=np.array(12)\n",
    "print(\"Original Array \",arr)"
   ]
  }
 ],
 "metadata": {
  "kernelspec": {
   "display_name": "venv",
   "language": "python",
   "name": "python3"
  },
  "language_info": {
   "codemirror_mode": {
    "name": "ipython",
    "version": 3
   },
   "file_extension": ".py",
   "mimetype": "text/x-python",
   "name": "python",
   "nbconvert_exporter": "python",
   "pygments_lexer": "ipython3",
   "version": "3.13.1"
  }
 },
 "nbformat": 4,
 "nbformat_minor": 5
}
