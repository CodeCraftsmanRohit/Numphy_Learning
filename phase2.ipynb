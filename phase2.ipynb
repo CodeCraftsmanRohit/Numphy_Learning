{
 "cells": [
  {
   "cell_type": "markdown",
   "id": "89e216c7",
   "metadata": {},
   "source": [
    "## Numpy Array Operations"
   ]
  },
  {
   "cell_type": "code",
   "execution_count": 1,
   "id": "e94bfdb3",
   "metadata": {},
   "outputs": [],
   "source": [
    "import numpy as np"
   ]
  },
  {
   "cell_type": "code",
   "execution_count": 2,
   "id": "b4a87e41",
   "metadata": {},
   "outputs": [
    {
     "name": "stdout",
     "output_type": "stream",
     "text": [
      "Basic Slicing [3 4 5 6 7]\n",
      "With Step [2 4 6 8]\n",
      "Negative indexing 8\n"
     ]
    }
   ],
   "source": [
    "arr=np.array([1,2,3,4,5,6,7,8,9,10])\n",
    "print(\"Basic Slicing\",arr[2:7])\n",
    "print(\"With Step\",arr[1:8:2])\n",
    "print(\"Negative indexing\",arr[-3])"
   ]
  },
  {
   "cell_type": "code",
   "execution_count": 3,
   "id": "0097c794",
   "metadata": {},
   "outputs": [
    {
     "name": "stdout",
     "output_type": "stream",
     "text": [
      "Specific Element 6\n",
      "Entire row:  [4 5 6]\n",
      "Entire column:  [2 5 8]\n"
     ]
    }
   ],
   "source": [
    "arr_2d=np.array([[1,2,3],[4,5,6],[7,8,9]])\n",
    "print(\"Specific Element\",arr_2d[1,2])\n",
    "print(\"Entire row: \",arr_2d[1])\n",
    "print(\"Entire column: \",arr_2d[:,1])"
   ]
  },
  {
   "cell_type": "markdown",
   "id": "59c70b3c",
   "metadata": {},
   "source": [
    "# Sorting"
   ]
  },
  {
   "cell_type": "code",
   "execution_count": 6,
   "id": "39384e03",
   "metadata": {},
   "outputs": [
    {
     "name": "stdout",
     "output_type": "stream",
     "text": [
      "Sorted Array  [1 1 2 3 4 5 6 9]\n",
      "Sorted 2D array by column [[1 1]\n",
      " [2 2]\n",
      " [3 3]]\n"
     ]
    }
   ],
   "source": [
    "unsorted=np.array([3,1,4,1,5,9,2,6])\n",
    "print(\"Sorted Array \",np.sort(unsorted))\n",
    "\n",
    "arr_2d_unsorted=np.array([[3,1],[1,2],[2,3]])\n",
    "print(\"Sorted 2D array by column\",np.sort(arr_2d_unsorted,axis=0))\n"
   ]
  },
  {
   "cell_type": "markdown",
   "id": "fff1f457",
   "metadata": {},
   "source": [
    "# Filter\n"
   ]
  },
  {
   "cell_type": "code",
   "execution_count": 7,
   "id": "88fde260",
   "metadata": {},
   "outputs": [
    {
     "name": "stdout",
     "output_type": "stream",
     "text": [
      "Even numbers [ 2  4  6  8 10]\n"
     ]
    }
   ],
   "source": [
    "numbers=np.array([1,2,3,4,5,6,7,8,9,10])\n",
    "even_number=numbers[numbers%2==0]\n",
    "print(\"Even numbers\",even_number)"
   ]
  },
  {
   "cell_type": "markdown",
   "id": "3563702b",
   "metadata": {},
   "source": [
    "# Filter with mask"
   ]
  },
  {
   "cell_type": "code",
   "execution_count": 8,
   "id": "c2209681",
   "metadata": {},
   "outputs": [
    {
     "name": "stdout",
     "output_type": "stream",
     "text": [
      "Numbers greater than 5 [ 6  7  8  9 10]\n"
     ]
    }
   ],
   "source": [
    "mask=numbers>5\n",
    "print(\"Numbers greater than 5\",numbers[mask])"
   ]
  },
  {
   "cell_type": "markdown",
   "id": "a1c74498",
   "metadata": {},
   "source": [
    "# Fancy indexing vs np.where()"
   ]
  },
  {
   "cell_type": "code",
   "execution_count": null,
   "id": "daf069ce",
   "metadata": {},
   "outputs": [
    {
     "name": "stdout",
     "output_type": "stream",
     "text": [
      "[1 3 5]\n",
      "(array([5, 6, 7, 8, 9]),)\n",
      "NP where [ 6  7  8  9 10]\n"
     ]
    }
   ],
   "source": [
    "indices=[0,2,4]\n",
    "print(numbers[indices])\n",
    "\n",
    "where_result=np.where(numbers>5)\n",
    "print(where_result)\n",
    "print(\"NP where\",numbers[where_result])\n"
   ]
  },
  {
   "cell_type": "code",
   "execution_count": 12,
   "id": "11d41a58",
   "metadata": {},
   "outputs": [
    {
     "name": "stdout",
     "output_type": "stream",
     "text": [
      "['False' 'False' 'False' 'False' 'False' 'True' 'True' 'True' 'True'\n",
      " 'True']\n"
     ]
    }
   ],
   "source": [
    "condition_array=np.where(numbers>5,\"True\",\"False\")\n",
    "print(condition_array)"
   ]
  },
  {
   "cell_type": "markdown",
   "id": "b2565cf2",
   "metadata": {},
   "source": [
    "# Adding and Removing data"
   ]
  },
  {
   "cell_type": "code",
   "execution_count": 13,
   "id": "1b8e8145",
   "metadata": {},
   "outputs": [
    {
     "name": "stdout",
     "output_type": "stream",
     "text": [
      "[1 2 3 4 5 6]\n"
     ]
    }
   ],
   "source": [
    "arr1=np.array([1,2,3])\n",
    "arr2=np.array([4,5,6])\n",
    "combined=np.concatenate((arr1,arr2))\n",
    "print(combined)\n"
   ]
  },
  {
   "cell_type": "markdown",
   "id": "f3a6a2ed",
   "metadata": {},
   "source": [
    "# Array Compatibility"
   ]
  },
  {
   "cell_type": "code",
   "execution_count": 14,
   "id": "517b1098",
   "metadata": {},
   "outputs": [
    {
     "name": "stdout",
     "output_type": "stream",
     "text": [
      "Compatibility shapes  False\n"
     ]
    }
   ],
   "source": [
    "a=np.array([1,2,3])\n",
    "b=np.array([4,5,6,7])\n",
    "c=np.array([7,8,9])\n",
    "print(\"Compatibility shapes \",a.shape==b.shape)"
   ]
  },
  {
   "cell_type": "code",
   "execution_count": 17,
   "id": "8c14f4fb",
   "metadata": {},
   "outputs": [
    {
     "name": "stdout",
     "output_type": "stream",
     "text": [
      "[[1 2]\n",
      " [3 4]]\n",
      "[[1 2]\n",
      " [3 4]\n",
      " [5 6]]\n",
      "With new column  [[1 2 7]\n",
      " [3 4 8]]\n"
     ]
    }
   ],
   "source": [
    "original=np.array([[1,2],[3,4]])\n",
    "new_row=np.array([5,6])\n",
    "\n",
    "with_new_row=np.vstack((original,new_row))\n",
    "print(original)\n",
    "print(with_new_row)\n",
    "new_col=np.array([[7],[8]])\n",
    "with_new_col=np.hstack((original,new_col))\n",
    "print(\"With new column \",with_new_col)\n"
   ]
  },
  {
   "cell_type": "code",
   "execution_count": 18,
   "id": "78171afb",
   "metadata": {},
   "outputs": [
    {
     "name": "stdout",
     "output_type": "stream",
     "text": [
      "Array after deletion:  [1 2 4 5]\n"
     ]
    }
   ],
   "source": [
    "arr=np.array([1,2,3,4,5])\n",
    "deleted=np.delete(arr,2)\n",
    "print(\"Array after deletion: \",deleted)"
   ]
  }
 ],
 "metadata": {
  "kernelspec": {
   "display_name": "venv",
   "language": "python",
   "name": "python3"
  },
  "language_info": {
   "codemirror_mode": {
    "name": "ipython",
    "version": 3
   },
   "file_extension": ".py",
   "mimetype": "text/x-python",
   "name": "python",
   "nbconvert_exporter": "python",
   "pygments_lexer": "ipython3",
   "version": "3.13.1"
  }
 },
 "nbformat": 4,
 "nbformat_minor": 5
}
