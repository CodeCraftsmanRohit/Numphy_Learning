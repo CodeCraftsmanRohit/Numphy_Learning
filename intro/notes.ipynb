{
 "cells": [
  {
   "cell_type": "markdown",
   "id": "9e8c9b7c",
   "metadata": {},
   "source": [
    "# Numpy\n",
    "## speed,less memory,easy math operations,used in ai,ds,stock market and finance,medical,image processingetc "
   ]
  }
 ],
 "metadata": {
  "language_info": {
   "name": "python"
  }
 },
 "nbformat": 4,
 "nbformat_minor": 5
}
